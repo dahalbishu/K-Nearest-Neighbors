{
 "cells": [
  {
   "cell_type": "code",
   "execution_count": 1,
   "id": "85317642",
   "metadata": {},
   "outputs": [],
   "source": [
    "import numpy as np\n",
    "import pandas as pd\n",
    "from sklearn.preprocessing import LabelEncoder"
   ]
  },
  {
   "cell_type": "code",
   "execution_count": 2,
   "id": "e9bd96f8",
   "metadata": {},
   "outputs": [],
   "source": [
    "data = pd.read_csv('output.csv')"
   ]
  },
  {
   "cell_type": "code",
   "execution_count": 3,
   "id": "488c3dbb",
   "metadata": {},
   "outputs": [
    {
     "data": {
      "text/plain": [
       "pandas.core.frame.DataFrame"
      ]
     },
     "execution_count": 3,
     "metadata": {},
     "output_type": "execute_result"
    }
   ],
   "source": [
    "type(data)"
   ]
  },
  {
   "cell_type": "code",
   "execution_count": 4,
   "id": "7d7b07c6",
   "metadata": {
    "scrolled": true
   },
   "outputs": [
    {
     "data": {
      "text/html": [
       "<div>\n",
       "<style scoped>\n",
       "    .dataframe tbody tr th:only-of-type {\n",
       "        vertical-align: middle;\n",
       "    }\n",
       "\n",
       "    .dataframe tbody tr th {\n",
       "        vertical-align: top;\n",
       "    }\n",
       "\n",
       "    .dataframe thead th {\n",
       "        text-align: right;\n",
       "    }\n",
       "</style>\n",
       "<table border=\"1\" class=\"dataframe\">\n",
       "  <thead>\n",
       "    <tr style=\"text-align: right;\">\n",
       "      <th></th>\n",
       "      <th>-1.23</th>\n",
       "      <th>-1.56</th>\n",
       "      <th>-1.75</th>\n",
       "      <th>-0.28</th>\n",
       "      <th>0.60</th>\n",
       "      <th>2.22</th>\n",
       "      <th>0.85</th>\n",
       "      <th>0.21</th>\n",
       "      <th>-0.20</th>\n",
       "      <th>0.89</th>\n",
       "      <th>...</th>\n",
       "      <th>2.89</th>\n",
       "      <th>7.75</th>\n",
       "      <th>4.59</th>\n",
       "      <th>3.15</th>\n",
       "      <th>5.12</th>\n",
       "      <th>3.32</th>\n",
       "      <th>1.20</th>\n",
       "      <th>0.24</th>\n",
       "      <th>-0.56</th>\n",
       "      <th>2</th>\n",
       "    </tr>\n",
       "  </thead>\n",
       "  <tbody>\n",
       "    <tr>\n",
       "      <th>0</th>\n",
       "      <td>-0.69</td>\n",
       "      <td>2.43</td>\n",
       "      <td>0.61</td>\n",
       "      <td>2.08</td>\n",
       "      <td>2.30</td>\n",
       "      <td>3.25</td>\n",
       "      <td>5.52</td>\n",
       "      <td>4.55</td>\n",
       "      <td>2.97</td>\n",
       "      <td>2.22</td>\n",
       "      <td>...</td>\n",
       "      <td>1.24</td>\n",
       "      <td>1.89</td>\n",
       "      <td>1.88</td>\n",
       "      <td>-1.34</td>\n",
       "      <td>0.83</td>\n",
       "      <td>1.41</td>\n",
       "      <td>1.78</td>\n",
       "      <td>0.60</td>\n",
       "      <td>2.42</td>\n",
       "      <td>1</td>\n",
       "    </tr>\n",
       "    <tr>\n",
       "      <th>1</th>\n",
       "      <td>-0.12</td>\n",
       "      <td>-0.94</td>\n",
       "      <td>1.29</td>\n",
       "      <td>2.59</td>\n",
       "      <td>2.42</td>\n",
       "      <td>3.55</td>\n",
       "      <td>4.94</td>\n",
       "      <td>3.25</td>\n",
       "      <td>1.90</td>\n",
       "      <td>2.07</td>\n",
       "      <td>...</td>\n",
       "      <td>2.50</td>\n",
       "      <td>0.12</td>\n",
       "      <td>1.41</td>\n",
       "      <td>2.78</td>\n",
       "      <td>0.64</td>\n",
       "      <td>0.62</td>\n",
       "      <td>-0.01</td>\n",
       "      <td>-0.79</td>\n",
       "      <td>-0.12</td>\n",
       "      <td>0</td>\n",
       "    </tr>\n",
       "    <tr>\n",
       "      <th>2</th>\n",
       "      <td>0.86</td>\n",
       "      <td>0.29</td>\n",
       "      <td>2.19</td>\n",
       "      <td>-0.02</td>\n",
       "      <td>1.13</td>\n",
       "      <td>2.51</td>\n",
       "      <td>2.37</td>\n",
       "      <td>5.45</td>\n",
       "      <td>5.45</td>\n",
       "      <td>4.84</td>\n",
       "      <td>...</td>\n",
       "      <td>2.58</td>\n",
       "      <td>1.40</td>\n",
       "      <td>1.24</td>\n",
       "      <td>1.41</td>\n",
       "      <td>1.07</td>\n",
       "      <td>-1.43</td>\n",
       "      <td>2.84</td>\n",
       "      <td>-1.18</td>\n",
       "      <td>1.12</td>\n",
       "      <td>1</td>\n",
       "    </tr>\n",
       "    <tr>\n",
       "      <th>3</th>\n",
       "      <td>1.16</td>\n",
       "      <td>0.37</td>\n",
       "      <td>0.40</td>\n",
       "      <td>-0.59</td>\n",
       "      <td>2.66</td>\n",
       "      <td>1.00</td>\n",
       "      <td>2.69</td>\n",
       "      <td>4.06</td>\n",
       "      <td>5.34</td>\n",
       "      <td>3.53</td>\n",
       "      <td>...</td>\n",
       "      <td>4.30</td>\n",
       "      <td>1.84</td>\n",
       "      <td>1.73</td>\n",
       "      <td>0.21</td>\n",
       "      <td>-0.18</td>\n",
       "      <td>0.13</td>\n",
       "      <td>-0.21</td>\n",
       "      <td>-0.80</td>\n",
       "      <td>-0.68</td>\n",
       "      <td>1</td>\n",
       "    </tr>\n",
       "    <tr>\n",
       "      <th>4</th>\n",
       "      <td>-0.00</td>\n",
       "      <td>0.77</td>\n",
       "      <td>1.32</td>\n",
       "      <td>0.29</td>\n",
       "      <td>-1.28</td>\n",
       "      <td>0.84</td>\n",
       "      <td>1.60</td>\n",
       "      <td>1.55</td>\n",
       "      <td>2.93</td>\n",
       "      <td>4.76</td>\n",
       "      <td>...</td>\n",
       "      <td>4.89</td>\n",
       "      <td>2.81</td>\n",
       "      <td>2.37</td>\n",
       "      <td>3.68</td>\n",
       "      <td>-0.98</td>\n",
       "      <td>0.69</td>\n",
       "      <td>0.91</td>\n",
       "      <td>-1.80</td>\n",
       "      <td>0.39</td>\n",
       "      <td>2</td>\n",
       "    </tr>\n",
       "  </tbody>\n",
       "</table>\n",
       "<p>5 rows × 22 columns</p>\n",
       "</div>"
      ],
      "text/plain": [
       "   -1.23  -1.56  -1.75  -0.28  0.60  2.22  0.85  0.21  -0.20  0.89  ...  2.89  \\\n",
       "0  -0.69   2.43   0.61   2.08  2.30  3.25  5.52  4.55   2.97  2.22  ...  1.24   \n",
       "1  -0.12  -0.94   1.29   2.59  2.42  3.55  4.94  3.25   1.90  2.07  ...  2.50   \n",
       "2   0.86   0.29   2.19  -0.02  1.13  2.51  2.37  5.45   5.45  4.84  ...  2.58   \n",
       "3   1.16   0.37   0.40  -0.59  2.66  1.00  2.69  4.06   5.34  3.53  ...  4.30   \n",
       "4  -0.00   0.77   1.32   0.29 -1.28  0.84  1.60  1.55   2.93  4.76  ...  4.89   \n",
       "\n",
       "   7.75  4.59  3.15  5.12  3.32  1.20  0.24  -0.56  2  \n",
       "0  1.89  1.88 -1.34  0.83  1.41  1.78  0.60   2.42  1  \n",
       "1  0.12  1.41  2.78  0.64  0.62 -0.01 -0.79  -0.12  0  \n",
       "2  1.40  1.24  1.41  1.07 -1.43  2.84 -1.18   1.12  1  \n",
       "3  1.84  1.73  0.21 -0.18  0.13 -0.21 -0.80  -0.68  1  \n",
       "4  2.81  2.37  3.68 -0.98  0.69  0.91 -1.80   0.39  2  \n",
       "\n",
       "[5 rows x 22 columns]"
      ]
     },
     "execution_count": 4,
     "metadata": {},
     "output_type": "execute_result"
    }
   ],
   "source": [
    "data.head()"
   ]
  },
  {
   "cell_type": "code",
   "execution_count": 5,
   "id": "c986c9cb",
   "metadata": {},
   "outputs": [
    {
     "data": {
      "text/plain": [
       "(4999, 22)"
      ]
     },
     "execution_count": 5,
     "metadata": {},
     "output_type": "execute_result"
    }
   ],
   "source": [
    "data.shape"
   ]
  },
  {
   "cell_type": "code",
   "execution_count": 6,
   "id": "fe537d52",
   "metadata": {},
   "outputs": [
    {
     "name": "stdout",
     "output_type": "stream",
     "text": [
      "2\n",
      "0    1657\n",
      "1    1647\n",
      "2    1695\n",
      "dtype: int64\n"
     ]
    }
   ],
   "source": [
    "legnByGeneration = data.groupby(['2']).size()\n",
    "print(legnByGeneration)"
   ]
  },
  {
   "cell_type": "code",
   "execution_count": 7,
   "id": "a50380c0",
   "metadata": {},
   "outputs": [
    {
     "data": {
      "text/plain": [
       "(4999, 22)"
      ]
     },
     "execution_count": 7,
     "metadata": {},
     "output_type": "execute_result"
    }
   ],
   "source": [
    "data.shape"
   ]
  },
  {
   "cell_type": "code",
   "execution_count": 8,
   "id": "8935663f",
   "metadata": {},
   "outputs": [
    {
     "data": {
      "text/html": [
       "<div>\n",
       "<style scoped>\n",
       "    .dataframe tbody tr th:only-of-type {\n",
       "        vertical-align: middle;\n",
       "    }\n",
       "\n",
       "    .dataframe tbody tr th {\n",
       "        vertical-align: top;\n",
       "    }\n",
       "\n",
       "    .dataframe thead th {\n",
       "        text-align: right;\n",
       "    }\n",
       "</style>\n",
       "<table border=\"1\" class=\"dataframe\">\n",
       "  <thead>\n",
       "    <tr style=\"text-align: right;\">\n",
       "      <th></th>\n",
       "      <th>-1.23</th>\n",
       "      <th>-1.56</th>\n",
       "      <th>-1.75</th>\n",
       "      <th>-0.28</th>\n",
       "      <th>0.60</th>\n",
       "      <th>2.22</th>\n",
       "      <th>0.85</th>\n",
       "      <th>0.21</th>\n",
       "      <th>-0.20</th>\n",
       "      <th>0.89</th>\n",
       "      <th>...</th>\n",
       "      <th>2.89</th>\n",
       "      <th>7.75</th>\n",
       "      <th>4.59</th>\n",
       "      <th>3.15</th>\n",
       "      <th>5.12</th>\n",
       "      <th>3.32</th>\n",
       "      <th>1.20</th>\n",
       "      <th>0.24</th>\n",
       "      <th>-0.56</th>\n",
       "      <th>2</th>\n",
       "    </tr>\n",
       "  </thead>\n",
       "  <tbody>\n",
       "    <tr>\n",
       "      <th>0</th>\n",
       "      <td>-0.69</td>\n",
       "      <td>2.43</td>\n",
       "      <td>0.61</td>\n",
       "      <td>2.08</td>\n",
       "      <td>2.30</td>\n",
       "      <td>3.25</td>\n",
       "      <td>5.52</td>\n",
       "      <td>4.55</td>\n",
       "      <td>2.97</td>\n",
       "      <td>2.22</td>\n",
       "      <td>...</td>\n",
       "      <td>1.24</td>\n",
       "      <td>1.89</td>\n",
       "      <td>1.88</td>\n",
       "      <td>-1.34</td>\n",
       "      <td>0.83</td>\n",
       "      <td>1.41</td>\n",
       "      <td>1.78</td>\n",
       "      <td>0.60</td>\n",
       "      <td>2.42</td>\n",
       "      <td>1</td>\n",
       "    </tr>\n",
       "    <tr>\n",
       "      <th>1</th>\n",
       "      <td>-0.12</td>\n",
       "      <td>-0.94</td>\n",
       "      <td>1.29</td>\n",
       "      <td>2.59</td>\n",
       "      <td>2.42</td>\n",
       "      <td>3.55</td>\n",
       "      <td>4.94</td>\n",
       "      <td>3.25</td>\n",
       "      <td>1.90</td>\n",
       "      <td>2.07</td>\n",
       "      <td>...</td>\n",
       "      <td>2.50</td>\n",
       "      <td>0.12</td>\n",
       "      <td>1.41</td>\n",
       "      <td>2.78</td>\n",
       "      <td>0.64</td>\n",
       "      <td>0.62</td>\n",
       "      <td>-0.01</td>\n",
       "      <td>-0.79</td>\n",
       "      <td>-0.12</td>\n",
       "      <td>0</td>\n",
       "    </tr>\n",
       "    <tr>\n",
       "      <th>2</th>\n",
       "      <td>0.86</td>\n",
       "      <td>0.29</td>\n",
       "      <td>2.19</td>\n",
       "      <td>-0.02</td>\n",
       "      <td>1.13</td>\n",
       "      <td>2.51</td>\n",
       "      <td>2.37</td>\n",
       "      <td>5.45</td>\n",
       "      <td>5.45</td>\n",
       "      <td>4.84</td>\n",
       "      <td>...</td>\n",
       "      <td>2.58</td>\n",
       "      <td>1.40</td>\n",
       "      <td>1.24</td>\n",
       "      <td>1.41</td>\n",
       "      <td>1.07</td>\n",
       "      <td>-1.43</td>\n",
       "      <td>2.84</td>\n",
       "      <td>-1.18</td>\n",
       "      <td>1.12</td>\n",
       "      <td>1</td>\n",
       "    </tr>\n",
       "    <tr>\n",
       "      <th>3</th>\n",
       "      <td>1.16</td>\n",
       "      <td>0.37</td>\n",
       "      <td>0.40</td>\n",
       "      <td>-0.59</td>\n",
       "      <td>2.66</td>\n",
       "      <td>1.00</td>\n",
       "      <td>2.69</td>\n",
       "      <td>4.06</td>\n",
       "      <td>5.34</td>\n",
       "      <td>3.53</td>\n",
       "      <td>...</td>\n",
       "      <td>4.30</td>\n",
       "      <td>1.84</td>\n",
       "      <td>1.73</td>\n",
       "      <td>0.21</td>\n",
       "      <td>-0.18</td>\n",
       "      <td>0.13</td>\n",
       "      <td>-0.21</td>\n",
       "      <td>-0.80</td>\n",
       "      <td>-0.68</td>\n",
       "      <td>1</td>\n",
       "    </tr>\n",
       "    <tr>\n",
       "      <th>4</th>\n",
       "      <td>-0.00</td>\n",
       "      <td>0.77</td>\n",
       "      <td>1.32</td>\n",
       "      <td>0.29</td>\n",
       "      <td>-1.28</td>\n",
       "      <td>0.84</td>\n",
       "      <td>1.60</td>\n",
       "      <td>1.55</td>\n",
       "      <td>2.93</td>\n",
       "      <td>4.76</td>\n",
       "      <td>...</td>\n",
       "      <td>4.89</td>\n",
       "      <td>2.81</td>\n",
       "      <td>2.37</td>\n",
       "      <td>3.68</td>\n",
       "      <td>-0.98</td>\n",
       "      <td>0.69</td>\n",
       "      <td>0.91</td>\n",
       "      <td>-1.80</td>\n",
       "      <td>0.39</td>\n",
       "      <td>2</td>\n",
       "    </tr>\n",
       "    <tr>\n",
       "      <th>...</th>\n",
       "      <td>...</td>\n",
       "      <td>...</td>\n",
       "      <td>...</td>\n",
       "      <td>...</td>\n",
       "      <td>...</td>\n",
       "      <td>...</td>\n",
       "      <td>...</td>\n",
       "      <td>...</td>\n",
       "      <td>...</td>\n",
       "      <td>...</td>\n",
       "      <td>...</td>\n",
       "      <td>...</td>\n",
       "      <td>...</td>\n",
       "      <td>...</td>\n",
       "      <td>...</td>\n",
       "      <td>...</td>\n",
       "      <td>...</td>\n",
       "      <td>...</td>\n",
       "      <td>...</td>\n",
       "      <td>...</td>\n",
       "      <td>...</td>\n",
       "    </tr>\n",
       "    <tr>\n",
       "      <th>4994</th>\n",
       "      <td>-0.65</td>\n",
       "      <td>0.69</td>\n",
       "      <td>2.29</td>\n",
       "      <td>-0.16</td>\n",
       "      <td>0.51</td>\n",
       "      <td>0.26</td>\n",
       "      <td>2.34</td>\n",
       "      <td>-0.42</td>\n",
       "      <td>0.49</td>\n",
       "      <td>0.31</td>\n",
       "      <td>...</td>\n",
       "      <td>3.46</td>\n",
       "      <td>4.81</td>\n",
       "      <td>5.49</td>\n",
       "      <td>5.19</td>\n",
       "      <td>3.10</td>\n",
       "      <td>3.86</td>\n",
       "      <td>2.96</td>\n",
       "      <td>1.09</td>\n",
       "      <td>-1.42</td>\n",
       "      <td>0</td>\n",
       "    </tr>\n",
       "    <tr>\n",
       "      <th>4995</th>\n",
       "      <td>-0.02</td>\n",
       "      <td>0.67</td>\n",
       "      <td>2.34</td>\n",
       "      <td>3.18</td>\n",
       "      <td>2.16</td>\n",
       "      <td>4.77</td>\n",
       "      <td>6.70</td>\n",
       "      <td>4.54</td>\n",
       "      <td>4.92</td>\n",
       "      <td>3.39</td>\n",
       "      <td>...</td>\n",
       "      <td>1.53</td>\n",
       "      <td>2.52</td>\n",
       "      <td>1.14</td>\n",
       "      <td>-1.56</td>\n",
       "      <td>-1.18</td>\n",
       "      <td>-0.56</td>\n",
       "      <td>0.02</td>\n",
       "      <td>-1.05</td>\n",
       "      <td>-0.18</td>\n",
       "      <td>1</td>\n",
       "    </tr>\n",
       "    <tr>\n",
       "      <th>4996</th>\n",
       "      <td>0.01</td>\n",
       "      <td>-1.99</td>\n",
       "      <td>0.16</td>\n",
       "      <td>2.30</td>\n",
       "      <td>-0.53</td>\n",
       "      <td>1.93</td>\n",
       "      <td>3.61</td>\n",
       "      <td>3.00</td>\n",
       "      <td>4.61</td>\n",
       "      <td>5.73</td>\n",
       "      <td>...</td>\n",
       "      <td>3.14</td>\n",
       "      <td>3.04</td>\n",
       "      <td>1.61</td>\n",
       "      <td>0.60</td>\n",
       "      <td>-0.52</td>\n",
       "      <td>0.62</td>\n",
       "      <td>1.00</td>\n",
       "      <td>1.21</td>\n",
       "      <td>-0.27</td>\n",
       "      <td>1</td>\n",
       "    </tr>\n",
       "    <tr>\n",
       "      <th>4997</th>\n",
       "      <td>-0.40</td>\n",
       "      <td>0.41</td>\n",
       "      <td>-0.48</td>\n",
       "      <td>1.04</td>\n",
       "      <td>0.79</td>\n",
       "      <td>-0.66</td>\n",
       "      <td>1.18</td>\n",
       "      <td>0.52</td>\n",
       "      <td>2.20</td>\n",
       "      <td>0.59</td>\n",
       "      <td>...</td>\n",
       "      <td>3.64</td>\n",
       "      <td>3.62</td>\n",
       "      <td>5.97</td>\n",
       "      <td>2.63</td>\n",
       "      <td>3.83</td>\n",
       "      <td>1.72</td>\n",
       "      <td>2.08</td>\n",
       "      <td>1.31</td>\n",
       "      <td>1.37</td>\n",
       "      <td>0</td>\n",
       "    </tr>\n",
       "    <tr>\n",
       "      <th>4998</th>\n",
       "      <td>0.63</td>\n",
       "      <td>-0.07</td>\n",
       "      <td>2.71</td>\n",
       "      <td>2.55</td>\n",
       "      <td>3.36</td>\n",
       "      <td>3.22</td>\n",
       "      <td>3.69</td>\n",
       "      <td>4.67</td>\n",
       "      <td>3.45</td>\n",
       "      <td>3.87</td>\n",
       "      <td>...</td>\n",
       "      <td>-0.52</td>\n",
       "      <td>1.90</td>\n",
       "      <td>0.88</td>\n",
       "      <td>3.15</td>\n",
       "      <td>1.27</td>\n",
       "      <td>-0.53</td>\n",
       "      <td>0.09</td>\n",
       "      <td>0.01</td>\n",
       "      <td>0.60</td>\n",
       "      <td>1</td>\n",
       "    </tr>\n",
       "  </tbody>\n",
       "</table>\n",
       "<p>4999 rows × 22 columns</p>\n",
       "</div>"
      ],
      "text/plain": [
       "      -1.23  -1.56  -1.75  -0.28  0.60  2.22  0.85  0.21  -0.20  0.89  ...  \\\n",
       "0     -0.69   2.43   0.61   2.08  2.30  3.25  5.52  4.55   2.97  2.22  ...   \n",
       "1     -0.12  -0.94   1.29   2.59  2.42  3.55  4.94  3.25   1.90  2.07  ...   \n",
       "2      0.86   0.29   2.19  -0.02  1.13  2.51  2.37  5.45   5.45  4.84  ...   \n",
       "3      1.16   0.37   0.40  -0.59  2.66  1.00  2.69  4.06   5.34  3.53  ...   \n",
       "4     -0.00   0.77   1.32   0.29 -1.28  0.84  1.60  1.55   2.93  4.76  ...   \n",
       "...     ...    ...    ...    ...   ...   ...   ...   ...    ...   ...  ...   \n",
       "4994  -0.65   0.69   2.29  -0.16  0.51  0.26  2.34 -0.42   0.49  0.31  ...   \n",
       "4995  -0.02   0.67   2.34   3.18  2.16  4.77  6.70  4.54   4.92  3.39  ...   \n",
       "4996   0.01  -1.99   0.16   2.30 -0.53  1.93  3.61  3.00   4.61  5.73  ...   \n",
       "4997  -0.40   0.41  -0.48   1.04  0.79 -0.66  1.18  0.52   2.20  0.59  ...   \n",
       "4998   0.63  -0.07   2.71   2.55  3.36  3.22  3.69  4.67   3.45  3.87  ...   \n",
       "\n",
       "      2.89  7.75  4.59  3.15  5.12  3.32  1.20  0.24  -0.56  2  \n",
       "0     1.24  1.89  1.88 -1.34  0.83  1.41  1.78  0.60   2.42  1  \n",
       "1     2.50  0.12  1.41  2.78  0.64  0.62 -0.01 -0.79  -0.12  0  \n",
       "2     2.58  1.40  1.24  1.41  1.07 -1.43  2.84 -1.18   1.12  1  \n",
       "3     4.30  1.84  1.73  0.21 -0.18  0.13 -0.21 -0.80  -0.68  1  \n",
       "4     4.89  2.81  2.37  3.68 -0.98  0.69  0.91 -1.80   0.39  2  \n",
       "...    ...   ...   ...   ...   ...   ...   ...   ...    ... ..  \n",
       "4994  3.46  4.81  5.49  5.19  3.10  3.86  2.96  1.09  -1.42  0  \n",
       "4995  1.53  2.52  1.14 -1.56 -1.18 -0.56  0.02 -1.05  -0.18  1  \n",
       "4996  3.14  3.04  1.61  0.60 -0.52  0.62  1.00  1.21  -0.27  1  \n",
       "4997  3.64  3.62  5.97  2.63  3.83  1.72  2.08  1.31   1.37  0  \n",
       "4998 -0.52  1.90  0.88  3.15  1.27 -0.53  0.09  0.01   0.60  1  \n",
       "\n",
       "[4999 rows x 22 columns]"
      ]
     },
     "execution_count": 8,
     "metadata": {},
     "output_type": "execute_result"
    }
   ],
   "source": [
    "data"
   ]
  },
  {
   "cell_type": "code",
   "execution_count": 9,
   "id": "d5c6e0a0",
   "metadata": {},
   "outputs": [
    {
     "ename": "SyntaxError",
     "evalue": "invalid syntax (473536216.py, line 1)",
     "output_type": "error",
     "traceback": [
      "\u001b[1;36m  File \u001b[1;32m\"C:\\Users\\DELL\\AppData\\Local\\Temp\\ipykernel_15244\\473536216.py\"\u001b[1;36m, line \u001b[1;32m1\u001b[0m\n\u001b[1;33m    `\u001b[0m\n\u001b[1;37m    ^\u001b[0m\n\u001b[1;31mSyntaxError\u001b[0m\u001b[1;31m:\u001b[0m invalid syntax\n"
     ]
    }
   ],
   "source": [
    "`"
   ]
  },
  {
   "cell_type": "code",
   "execution_count": null,
   "id": "c3eb9ab1",
   "metadata": {},
   "outputs": [],
   "source": [
    "label=data['2']\n",
    "label"
   ]
  },
  {
   "cell_type": "code",
   "execution_count": null,
   "id": "e47710c8",
   "metadata": {},
   "outputs": [],
   "source": [
    "dropclass= data.drop(labels = ['2'],axis = 1)\n",
    "dropclass.head()"
   ]
  },
  {
   "cell_type": "code",
   "execution_count": null,
   "id": "7318dd0f",
   "metadata": {},
   "outputs": [],
   "source": [
    "dropclass.shape"
   ]
  },
  {
   "cell_type": "code",
   "execution_count": null,
   "id": "ab3eb872",
   "metadata": {},
   "outputs": [],
   "source": [
    "dropclass.describe()"
   ]
  },
  {
   "cell_type": "code",
   "execution_count": null,
   "id": "50f4beab",
   "metadata": {},
   "outputs": [],
   "source": [
    "\n",
    "from scipy.stats import zscore\n",
    "\n",
    "# Perform z-score normalization on each column\n",
    "df_normalized = dropclass.apply(zscore)\n",
    "\n",
    "# print(df_normalized.describe())\n"
   ]
  },
  {
   "cell_type": "code",
   "execution_count": null,
   "id": "2bf51261",
   "metadata": {},
   "outputs": [],
   "source": [
    "df_normalized.describe()"
   ]
  },
  {
   "cell_type": "code",
   "execution_count": null,
   "id": "36a77049",
   "metadata": {},
   "outputs": [],
   "source": [
    "df_normalized"
   ]
  },
  {
   "cell_type": "code",
   "execution_count": null,
   "id": "3a01ff98",
   "metadata": {},
   "outputs": [],
   "source": [
    "X=df_normalized\n",
    "Y=label\n",
    "from sklearn.model_selection import train_test_split\n",
    "X_train, X_test, y_train, y_test = train_test_split(df_normalized, Y, test_size = 0.2, random_state = 42,stratify=Y)"
   ]
  },
  {
   "cell_type": "code",
   "execution_count": null,
   "id": "07f51538",
   "metadata": {},
   "outputs": [],
   "source": []
  },
  {
   "cell_type": "code",
   "execution_count": null,
   "id": "d39d7fe5",
   "metadata": {},
   "outputs": [],
   "source": []
  },
  {
   "cell_type": "code",
   "execution_count": null,
   "id": "3d278fad",
   "metadata": {},
   "outputs": [],
   "source": [
    "from sklearn.neighbors import KNeighborsClassifier\n",
    "\n",
    "# Create a default KNN model\n",
    "knn = KNeighborsClassifier()\n",
    "\n",
    "# Get the parameters of the KNN model\n",
    "params = knn.get_params()\n",
    "\n",
    "print(params)\n"
   ]
  },
  {
   "cell_type": "code",
   "execution_count": null,
   "id": "3ab465c9",
   "metadata": {},
   "outputs": [],
   "source": [
    "knn.fit(X_train, y_train)\n",
    "\n"
   ]
  },
  {
   "cell_type": "code",
   "execution_count": null,
   "id": "c75f4f63",
   "metadata": {},
   "outputs": [],
   "source": [
    "y_pred1=knn.predict(X_test)"
   ]
  },
  {
   "cell_type": "code",
   "execution_count": null,
   "id": "e9ca592c",
   "metadata": {},
   "outputs": [],
   "source": [
    "y_test.shape"
   ]
  },
  {
   "cell_type": "code",
   "execution_count": null,
   "id": "ff112efa",
   "metadata": {},
   "outputs": [],
   "source": [
    "from sklearn.metrics import classification_report\n",
    "\n",
    "report = classification_report(y_test, y_pred1, zero_division=1, digits=4)\n",
    "print(report)\n"
   ]
  },
  {
   "cell_type": "code",
   "execution_count": null,
   "id": "5b4b6384",
   "metadata": {},
   "outputs": [],
   "source": [
    "from sklearn.metrics import accuracy_score\n",
    "accuracy = accuracy_score(y_test, y_pred1)\n",
    "print(f\"Accuracy: {accuracy:.4f}\")"
   ]
  },
  {
   "cell_type": "code",
   "execution_count": null,
   "id": "992f15fd",
   "metadata": {},
   "outputs": [],
   "source": [
    "from sklearn.metrics import confusion_matrix\n",
    "conf = confusion_matrix(y_test, y_pred1)\n",
    "conf\n"
   ]
  },
  {
   "cell_type": "code",
   "execution_count": null,
   "id": "5960a8eb",
   "metadata": {},
   "outputs": [],
   "source": [
    "from sklearn.metrics import confusion_matrix\n",
    "import seaborn as sns\n",
    "import matplotlib.pyplot as plt\n",
    "\n",
    "conf1 = confusion_matrix(y_test, y_pred1)\n",
    "\n",
    "\n",
    "# Create a heatmap using seaborn\n",
    "plt.figure(figsize=(8, 6))  # Adjust figure size if needed\n",
    "heatmap = sns.heatmap(conf1, annot=True, fmt='', cmap='Blues')\n",
    "\n",
    "plt.xlabel('Predicted')\n",
    "plt.ylabel('Actual')\n",
    "plt.title('Confusion Matrix')\n",
    "\n",
    "# Create a legend with custom labels and place it at the top of the plot\n",
    "legend_handles = [\n",
    "    plt.Line2D([], [], marker='o', color='w', label='THA076BEI009\\nTHA076BEI036', markersize=10, markerfacecolor='black', alpha=0)\n",
    "]\n",
    "plt.legend(handles=legend_handles, loc='upper center', bbox_to_anchor=(0.84, 1.1))  # Adjust the bbox_to_anchor values\n",
    "\n",
    "plt.show()\n"
   ]
  },
  {
   "cell_type": "code",
   "execution_count": null,
   "id": "f24d1409",
   "metadata": {},
   "outputs": [],
   "source": [
    "print(y_test.shape)"
   ]
  },
  {
   "cell_type": "code",
   "execution_count": null,
   "id": "7af14658",
   "metadata": {},
   "outputs": [],
   "source": [
    "cor=data.corr(method='pearson')"
   ]
  },
  {
   "cell_type": "code",
   "execution_count": null,
   "id": "88911450",
   "metadata": {
    "scrolled": true
   },
   "outputs": [],
   "source": [
    "cor"
   ]
  },
  {
   "cell_type": "code",
   "execution_count": null,
   "id": "87d309b7",
   "metadata": {},
   "outputs": [],
   "source": [
    "cor.shape"
   ]
  },
  {
   "cell_type": "code",
   "execution_count": null,
   "id": "d680e5bf",
   "metadata": {},
   "outputs": [],
   "source": [
    "import seaborn as sns\n",
    "import matplotlib.pyplot as plt\n",
    "\n",
    "# Set the desired figure size\n",
    "plt.figure(figsize=(18, 18))  # Adjust the width and height as needed\n",
    "\n",
    "# Create the heatmap\n",
    "ax = sns.heatmap(cor, annot=True)\n",
    "\n",
    "# Set labels and title\n",
    "\n",
    "plt.title('Correlation Matrix')\n",
    "legend_handles = [\n",
    "    plt.Line2D([], [], marker='o', color='w', label='THA076BEI009\\nTHA076BEI036', markersize=10, markerfacecolor='black', alpha=0)\n",
    "]\n",
    "plt.legend(handles=legend_handles, loc='upper center', bbox_to_anchor=(0.84, 1.04))  # Adjust the bbox_to_anchor values\n",
    "\n",
    "# Display the plot in a separate window\n",
    "plt.show(block=False)\n"
   ]
  },
  {
   "cell_type": "code",
   "execution_count": null,
   "id": "b93f4b24",
   "metadata": {},
   "outputs": [],
   "source": [
    "cor"
   ]
  },
  {
   "cell_type": "code",
   "execution_count": null,
   "id": "8809061c",
   "metadata": {},
   "outputs": [],
   "source": [
    "# Assuming your matrix is called 'matrix'\n",
    "last_row = cor['2']\n",
    "\n",
    "# Print the last row\n",
    "# print(last_row)\n",
    "val=last_row.values[:-1]\n",
    "print(val)\n",
    "feat=cor.columns[:-1]\n",
    "print(feat)"
   ]
  },
  {
   "cell_type": "code",
   "execution_count": null,
   "id": "f29eb983",
   "metadata": {},
   "outputs": [],
   "source": [
    "\n",
    "# Figure Size\n",
    "fig = plt.figure(figsize =(20, 17))\n",
    " \n",
    "# Horizontal Bar Plot\n",
    "plt.bar(feat,val )\n",
    "legend_handles = [\n",
    "    plt.Line2D([], [], marker='o', color='w', label='THA076BEI009\\nTHA076BEI036', markersize=10, markerfacecolor='black', alpha=0)\n",
    "]\n",
    "plt.legend(handles=legend_handles, loc='upper center', bbox_to_anchor=(0.84, 1.04))  # Adjust the bbox_to_anchor values\n",
    "\n",
    "# Show Plot\n",
    "plt.show()"
   ]
  },
  {
   "cell_type": "markdown",
   "id": "7060c3d8",
   "metadata": {},
   "source": []
  },
  {
   "cell_type": "code",
   "execution_count": null,
   "id": "46d8fa6b",
   "metadata": {},
   "outputs": [],
   "source": [
    "#### from sklearn.neighbors import KNeighborsClassifier\n",
    "import numpy as np\n",
    "\n",
    "# Generate random weights\n",
    "# num_neighbors = 5   of neighbors to consider\n",
    "np.random.seed(10)\n",
    "weights = np.random.rand(21)"
   ]
  },
  {
   "cell_type": "code",
   "execution_count": null,
   "id": "8de335e7",
   "metadata": {},
   "outputs": [],
   "source": []
  },
  {
   "cell_type": "code",
   "execution_count": null,
   "id": "949abc1d",
   "metadata": {},
   "outputs": [],
   "source": [
    " feat=cor.columns[:-1]\n",
    "print(feat)"
   ]
  },
  {
   "cell_type": "code",
   "execution_count": null,
   "id": "d09460b5",
   "metadata": {},
   "outputs": [],
   "source": [
    "type(weights)"
   ]
  },
  {
   "cell_type": "code",
   "execution_count": null,
   "id": "5b52da5f",
   "metadata": {},
   "outputs": [],
   "source": [
    "\n",
    "\n",
    "# # Convert the lists into a dictionary\n",
    "# my_dict = dict(zip(feat, weights))\n",
    "\n",
    "# # Print the dictionary\n",
    "# print(my_dict)\n"
   ]
  },
  {
   "cell_type": "code",
   "execution_count": null,
   "id": "9c8f6e15",
   "metadata": {},
   "outputs": [],
   "source": [
    "# Instantiate KNN model with random weights\n",
    "knn_model = KNeighborsClassifier(metric='wminkowski',p=2,metric_params={'w':weights})\n",
    "\n",
    "# Print the instantiated model\n",
    "print(knn_model)"
   ]
  },
  {
   "cell_type": "code",
   "execution_count": null,
   "id": "86a01b93",
   "metadata": {},
   "outputs": [],
   "source": [
    "# metric_params={\"power\": 2}"
   ]
  },
  {
   "cell_type": "code",
   "execution_count": null,
   "id": "c1c27fd7",
   "metadata": {},
   "outputs": [],
   "source": [
    "# Get the parameters of the KNN model\n",
    "paramss = knn_model.get_params()\n",
    "\n",
    "print(paramss)"
   ]
  },
  {
   "cell_type": "code",
   "execution_count": null,
   "id": "24be4c8d",
   "metadata": {},
   "outputs": [],
   "source": [
    "knn_model.fit(X_train, y_train)\n"
   ]
  },
  {
   "cell_type": "code",
   "execution_count": null,
   "id": "ab6fb89d",
   "metadata": {},
   "outputs": [],
   "source": [
    "\n",
    "y_pred2=knn_model.predict(X_test)"
   ]
  },
  {
   "cell_type": "code",
   "execution_count": null,
   "id": "7e813076",
   "metadata": {},
   "outputs": [],
   "source": [
    "y_pred2.shape"
   ]
  },
  {
   "cell_type": "code",
   "execution_count": null,
   "id": "3cf0384f",
   "metadata": {},
   "outputs": [],
   "source": [
    "y_test.shape"
   ]
  },
  {
   "cell_type": "code",
   "execution_count": null,
   "id": "6f8f0543",
   "metadata": {},
   "outputs": [],
   "source": [
    "from sklearn.metrics import classification_report\n",
    "\n",
    "\n",
    "report = classification_report(y_test, y_pred2, zero_division=1,digits=4)\n",
    "print(report)\n"
   ]
  },
  {
   "cell_type": "code",
   "execution_count": null,
   "id": "256954e5",
   "metadata": {},
   "outputs": [],
   "source": [
    "from sklearn.metrics import accuracy_score\n",
    "accuracy = accuracy_score(y_test, y_pred2)\n",
    "print(f\"Accuracy: {accuracy:.4f}\")"
   ]
  },
  {
   "cell_type": "code",
   "execution_count": null,
   "id": "9d392fbf",
   "metadata": {},
   "outputs": [],
   "source": [
    "from sklearn.metrics import confusion_matrix\n",
    "import seaborn as sns\n",
    "import matplotlib.pyplot as plt\n",
    "\n",
    "conf2 = confusion_matrix(y_test, y_pred2)\n",
    "\n",
    "\n",
    "# Create a heatmap using seaborn\n",
    "plt.figure(figsize=(8, 6))  # Adjust figure size if needed\n",
    "heatmap = sns.heatmap(conf2, annot=True, fmt='', cmap='Blues')\n",
    "\n",
    "plt.xlabel('Predicted')\n",
    "plt.ylabel('Actual')\n",
    "plt.title('Confusion Matrix')\n",
    "\n",
    "\n",
    "# Create a legend with custom labels and place it at the top of the plot\n",
    "legend_handles = [\n",
    "    plt.Line2D([], [], marker='o', color='w', label='THA076BEI009\\nTHA076BEI036', markersize=10, markerfacecolor='black', alpha=0)\n",
    "]\n",
    "plt.legend(handles=legend_handles, loc='upper center', bbox_to_anchor=(0.84, 1.1))  # Adjust the bbox_to_anchor value\n",
    "plt.show()\n"
   ]
  },
  {
   "cell_type": "code",
   "execution_count": null,
   "id": "b7d2a4db",
   "metadata": {},
   "outputs": [],
   "source": [
    "weights"
   ]
  },
  {
   "cell_type": "code",
   "execution_count": null,
   "id": "c63e47d3",
   "metadata": {},
   "outputs": [],
   "source": [
    "weights[11]=1\n",
    "weights[12]=2\n",
    "\n",
    "weights[10]=3\n",
    "weights[13]=4\n"
   ]
  },
  {
   "cell_type": "code",
   "execution_count": null,
   "id": "c785e50d",
   "metadata": {},
   "outputs": [],
   "source": [
    "weights"
   ]
  },
  {
   "cell_type": "code",
   "execution_count": null,
   "id": "989e5f99",
   "metadata": {},
   "outputs": [],
   "source": [
    "# Instantiate KNN model with random weights\n",
    "knn_model2 = KNeighborsClassifier(metric='wminkowski',p=2,metric_params={'w':weights})\n",
    "\n",
    "# Print the instantiated model\n",
    "print(knn_model2)"
   ]
  },
  {
   "cell_type": "code",
   "execution_count": null,
   "id": "c2ce7aa8",
   "metadata": {},
   "outputs": [],
   "source": [
    "# Get the parameters of the KNN model\n",
    "paramss = knn_model2.get_params()\n",
    "\n",
    "print(paramss)"
   ]
  },
  {
   "cell_type": "code",
   "execution_count": null,
   "id": "134f8e81",
   "metadata": {},
   "outputs": [],
   "source": [
    "knn_model2.fit(X_train, y_train)\n"
   ]
  },
  {
   "cell_type": "code",
   "execution_count": null,
   "id": "de671a06",
   "metadata": {},
   "outputs": [],
   "source": [
    "y_pred3=knn_model2.predict(X_test)"
   ]
  },
  {
   "cell_type": "code",
   "execution_count": null,
   "id": "947296aa",
   "metadata": {},
   "outputs": [],
   "source": [
    "y=y_pred3-y_pred2"
   ]
  },
  {
   "cell_type": "code",
   "execution_count": null,
   "id": "882afcbd",
   "metadata": {},
   "outputs": [],
   "source": [
    "# y"
   ]
  },
  {
   "cell_type": "code",
   "execution_count": null,
   "id": "e3095686",
   "metadata": {},
   "outputs": [],
   "source": [
    "from sklearn.metrics import classification_report\n",
    "\n",
    "report = classification_report(y_test, y_pred3, zero_division=1, digits=4)\n",
    "print(report)\n"
   ]
  },
  {
   "cell_type": "code",
   "execution_count": null,
   "id": "fec2aa9c",
   "metadata": {
    "scrolled": true
   },
   "outputs": [],
   "source": [
    "from sklearn.metrics import confusion_matrix\n",
    "import seaborn as sns\n",
    "import matplotlib.pyplot as plt\n",
    "\n",
    "conf3 = confusion_matrix(y_test, y_pred3)\n",
    "\n",
    "# Create a heatmap using seaborn\n",
    "plt.figure(figsize=(8, 6))  # Adjust figure size if needed\n",
    "heatmap = sns.heatmap(conf3, annot=True, fmt='', cmap='Blues')\n",
    "\n",
    "plt.xlabel('Predicted')\n",
    "plt.ylabel('Actual')\n",
    "plt.title('Confusion Matrix')\n",
    "\n",
    "# Create a legend with custom labels and place it at the top of the plot\n",
    "legend_handles = [\n",
    "    plt.Line2D([], [], marker='o', color='w', label='THA076BEI009\\nTHA076BEI036', markersize=10, markerfacecolor='black', alpha=0)\n",
    "]\n",
    "plt.legend(handles=legend_handles, loc='upper center', bbox_to_anchor=(0.84, 1.1))  # Adjust the bbox_to_anchor values\n",
    "\n",
    "plt.show()\n"
   ]
  },
  {
   "cell_type": "code",
   "execution_count": null,
   "id": "8a369143",
   "metadata": {},
   "outputs": [],
   "source": [
    "from sklearn.metrics import confusion_matrix\n",
    "import seaborn as sns\n",
    "import matplotlib.pyplot as plt\n",
    "\n",
    "conf3 = confusion_matrix(y_test, y_pred3)\n",
    "\n",
    "# Create a heatmap using seaborn\n",
    "plt.figure(figsize=(8, 6))  # Adjust figure size if needed\n",
    "heatmap = sns.heatmap(conf3, annot=True, fmt='', cmap='Blues')\n",
    "\n",
    "plt.xlabel('Predicted')\n",
    "plt.ylabel('Actual')\n",
    "plt.title('Confusion Matrix')\n",
    "\n",
    "# Create a legend with custom labels and place it at the top of the plot\n",
    "legend_handles = [\n",
    "    plt.Line2D([], [], marker='o', color='w', label='THA076BEI009\\nTHA076BEI036', markersize=10, markerfacecolor='black', alpha=0)\n",
    "]\n",
    "plt.legend(handles=legend_handles, loc='upper center', bbox_to_anchor=(0.84, 1.1))  # Adjust the bbox_to_anchor values\n",
    "\n",
    "plt.show()\n"
   ]
  },
  {
   "cell_type": "code",
   "execution_count": null,
   "id": "3048a244",
   "metadata": {},
   "outputs": [],
   "source": [
    "from sklearn.metrics import accuracy_score\n",
    "accuracy = accuracy_score(y_test, y_pred3)\n",
    "print(f\"Accuracy: {accuracy:.4f}\")"
   ]
  },
  {
   "cell_type": "code",
   "execution_count": null,
   "id": "64deadd9",
   "metadata": {},
   "outputs": [],
   "source": [
    "import pandas as pd\n",
    "\n",
    "# Assuming you have your labels in a pandas Series or DataFrame column called 'labels'\n",
    "label_counts = label.value_counts()\n",
    "\n",
    "# Print the count of each label\n",
    "print(label_counts)\n"
   ]
  },
  {
   "cell_type": "code",
   "execution_count": null,
   "id": "a39e4c27",
   "metadata": {},
   "outputs": [],
   "source": [
    "import numpy as np\n",
    "import matplotlib.pyplot as plt\n",
    "from sklearn.neighbors import KNeighborsClassifier\n",
    "from sklearn.model_selection import cross_val_score\n",
    "\n",
    "\n",
    "\n",
    "# Step 2: Choose a range of k values to try with step size 2\n",
    "k_values = list(range(1, 30, 2))  # For example, trying odd k values from 1 to 30\n",
    "\n",
    "# Step 3: Perform k-Fold Cross-Validation for each k value and collect accuracy scores\n",
    "accuracy_scores = []\n",
    "for k in k_values:\n",
    "    # Instantiate KNN model\n",
    "    knn_model = KNeighborsClassifier(n_neighbors=k)\n",
    "    \n",
    "    # Perform k-fold cross-validation and get accuracy scores\n",
    "    cv_scores = cross_val_score(knn_model, X, Y, cv=10)  # Using 10-fold cross-validation\n",
    "    \n",
    "    # Get the mean accuracy from cross-validation\n",
    "    accuracy = np.mean(cv_scores)\n",
    "    print(f\"Average Accuracy for k={k}: {accuracy:.4f}\")\n",
    "    accuracy_scores.append(accuracy)\n",
    "\n",
    "# Step 4: Find the k value with the highest accuracy\n",
    "best_k = k_values[np.argmax(accuracy_scores)]\n",
    "best_accuracy = max(accuracy_scores)\n",
    "\n",
    "# Step 5: Plot the relationship between k values and accuracy scores\n",
    "plt.figure(figsize=(10, 6))\n",
    "plt.plot(k_values, accuracy_scores, marker='o')\n",
    "plt.xlabel('k (Number of Neighbors)')\n",
    "plt.ylabel('Accuracy')\n",
    "plt.title('KNN Accuracy with Different Values of k')\n",
    "plt.xticks(k_values)\n",
    "plt.grid(True)\n",
    "plt.show()\n",
    "\n",
    "print(f\"Optimum value of k: {best_k}\")\n",
    "print(f\"Accuracy with optimum k: {best_accuracy:.5f}\")\n"
   ]
  },
  {
   "cell_type": "code",
   "execution_count": null,
   "id": "99733288",
   "metadata": {},
   "outputs": [],
   "source": [
    "# Instantiate KNN model with random weights\n",
    "knn_model = KNeighborsClassifier(n_neighbors=best_k)\n",
    "\n",
    "# Print the instantiated model\n",
    "print(knn_model)"
   ]
  },
  {
   "cell_type": "code",
   "execution_count": null,
   "id": "9f21269e",
   "metadata": {},
   "outputs": [],
   "source": [
    "knn_model.fit(X_train, y_train)\n"
   ]
  },
  {
   "cell_type": "code",
   "execution_count": null,
   "id": "c442e1e3",
   "metadata": {},
   "outputs": [],
   "source": [
    "Y_predd=knn_model.predict(X_test)\n",
    "report = classification_report(y_test, Y_predd, digits=4)\n",
    "report"
   ]
  },
  {
   "cell_type": "code",
   "execution_count": null,
   "id": "3307d3c5",
   "metadata": {},
   "outputs": [],
   "source": [
    "from sklearn.metrics import accuracy_score\n",
    "accuracy = accuracy_score(y_test, Y_predd)\n",
    "print(f\"Accuracy: {accuracy:.4f}\")"
   ]
  },
  {
   "cell_type": "code",
   "execution_count": null,
   "id": "24c50f69",
   "metadata": {},
   "outputs": [],
   "source": [
    "from sklearn.metrics import classification_report\n",
    "\n",
    "report = classification_report(y_test, Y_predd, zero_division=1, digits=4)\n",
    "print(report)\n"
   ]
  },
  {
   "cell_type": "code",
   "execution_count": null,
   "id": "503a5858",
   "metadata": {},
   "outputs": [],
   "source": [
    "from sklearn.metrics import confusion_matrix\n",
    "import seaborn as sns\n",
    "import matplotlib.pyplot as plt\n",
    "\n",
    "conf4 = confusion_matrix(y_test, Y_predd)\n",
    "\n",
    "\n",
    "\n",
    "# Create a heatmap using seaborn\n",
    "plt.figure(figsize=(8, 6))  # Adjust figure size if needed\n",
    "heatmap = sns.heatmap(conf4, annot=True, fmt='', cmap='Blues')\n",
    "\n",
    "plt.xlabel('Predicted')\n",
    "plt.ylabel('Actual')\n",
    "plt.title('Confusion Matrix')\n",
    "\n",
    "\n",
    "\n",
    "# Create a legend with custom labels and place it at the top of the plot\n",
    "legend_handles = [\n",
    "    plt.Line2D([], [], marker='o', color='w', label='THA076BEI009\\nTHA076BEI036', markersize=10, markerfacecolor='black', alpha=0)\n",
    "]\n",
    "plt.legend(handles=legend_handles, loc='upper center', bbox_to_anchor=(0.84, 1.1))  # Adjust the bbox_to_anchor values\n",
    "\n",
    "plt.show()\n"
   ]
  },
  {
   "cell_type": "code",
   "execution_count": null,
   "id": "3f1f4841",
   "metadata": {},
   "outputs": [],
   "source": []
  },
  {
   "cell_type": "code",
   "execution_count": null,
   "id": "e046b7c5",
   "metadata": {},
   "outputs": [],
   "source": []
  },
  {
   "cell_type": "code",
   "execution_count": null,
   "id": "cf01d46d",
   "metadata": {},
   "outputs": [],
   "source": []
  }
 ],
 "metadata": {
  "kernelspec": {
   "display_name": "Python 3 (ipykernel)",
   "language": "python",
   "name": "python3"
  },
  "language_info": {
   "codemirror_mode": {
    "name": "ipython",
    "version": 3
   },
   "file_extension": ".py",
   "mimetype": "text/x-python",
   "name": "python",
   "nbconvert_exporter": "python",
   "pygments_lexer": "ipython3",
   "version": "3.9.13"
  }
 },
 "nbformat": 4,
 "nbformat_minor": 5
}
